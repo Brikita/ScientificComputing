{
 "cells": [
  {
   "cell_type": "markdown",
   "metadata": {},
   "source": [
    "# CAT submission\n",
    "## - Mwangi Brian Kinyua\n",
    "## - SCT211-0005/2023\n"
   ]
  },
  {
   "cell_type": "markdown",
   "metadata": {},
   "source": [
    "# Question 1"
   ]
  },
  {
   "cell_type": "markdown",
   "metadata": {},
   "source": [
    "## You are provided with the function f(x) = x^2 - 6x + 9."
   ]
  },
  {
   "cell_type": "markdown",
   "metadata": {},
   "source": [
    "### a) Implement a Python function that performs gradient descent to minimize this function.\n",
    "The function should take as parameters:\n",
    "- the initial guess x0,\n",
    "- learning rate alpha,\n",
    "- and number of iterations n.\n",
    "The function should return the list of x-values and f(x)-values for each iteration. [10\n",
    "Marks]"
   ]
  },
  {
   "cell_type": "code",
   "execution_count": 9,
   "metadata": {},
   "outputs": [],
   "source": [
    "def gradient_descent(x0, alpha, n):\n",
    "    # Define the function f(x) = x^2 - 6x + 9\n",
    "    def f(x):\n",
    "        return x**2 - 6*x + 9\n",
    "\n",
    "    # Define the derivative of f(x), f'(x) = 2x - 6\n",
    "    def f_prime(x):\n",
    "        return 2*x - 6\n",
    "\n",
    "    x_values = [x0]\n",
    "    f_values = [f(x0)]\n",
    "\n",
    "    x = x0\n",
    "    for _ in range(n):\n",
    "        # Update x using the gradient descent formula\n",
    "        x = x - alpha * f_prime(x)\n",
    "        x_values.append(x)\n",
    "        f_values.append(f(x))\n",
    "\n",
    "    return x_values, f_values"
   ]
  },
  {
   "cell_type": "markdown",
   "metadata": {},
   "source": [
    "### b) Run your function with x0 = 2, alpha = 0.1, and n = 10. Present the output as a table with columns: iteration, x-value, f(x)-value. "
   ]
  },
  {
   "cell_type": "code",
   "execution_count": 10,
   "metadata": {},
   "outputs": [
    {
     "name": "stdout",
     "output_type": "stream",
     "text": [
      "Iteration x-value        f(x)-value     \n",
      "0         2.000000       1.000000       \n",
      "1         2.200000       0.640000       \n",
      "2         2.360000       0.409600       \n",
      "3         2.488000       0.262144       \n",
      "4         2.590400       0.167772       \n",
      "5         2.672320       0.107374       \n",
      "6         2.737856       0.068719       \n",
      "7         2.790285       0.043980       \n",
      "8         2.832228       0.028147       \n",
      "9         2.865782       0.018014       \n",
      "10        2.892626       0.011529       \n"
     ]
    }
   ],
   "source": [
    "x_values, f_values = gradient_descent(2, 0.1, 10)\n",
    "\n",
    "print(f\"{'Iteration':<10}{'x-value':<15}{'f(x)-value':<15}\")\n",
    "for i, (x, fx) in enumerate(zip(x_values, f_values)):\n",
    "    print(f\"{i:<10}{x:<15.6f}{fx:<15.6f}\")"
   ]
  },
  {
   "cell_type": "markdown",
   "metadata": {},
   "source": [
    "### c) Explain what would happen if the learning rate were set to 1 instead of 0.1, using insights from your code and outputs. "
   ]
  },
  {
   "cell_type": "markdown",
   "metadata": {},
   "source": [
    "If the learning rate (( \\alpha )) were set to 1 instead of 0.1, the gradient descent algorithm would likely fail to converge to the minimum of the function. Here's why:\n",
    "\n",
    "Insights from the Code and Outputs:\n",
    "Gradient Descent Update Rule: The update rule for gradient descent is: [ x_{\\text{new}} = x_{\\text{old}} - \\alpha \\cdot f'(x_{\\text{old}}) ] A larger learning rate (( \\alpha = 1 )) means that the step size in the direction of the gradient is much larger compared to ( \\alpha = 0.1 ).\n",
    "\n",
    "Overshooting the Minimum:\n",
    "\n",
    "With ( \\alpha = 1 ), the algorithm may take steps that are too large, causing it to overshoot the minimum of the function.\n",
    "Instead of converging, the x values may oscillate or even diverge, depending on the shape of the function and the gradient.\n",
    "Behavior of the Function ( f(x) = x^2 - 6x + 9 ):\n",
    "\n",
    "The derivative ( f'(x) = 2x - 6 ) determines the step size.\n",
    "For larger values of ( x ), the gradient is larger, and with ( \\alpha = 1 ), the updates become excessively large, leading to instability.\n",
    "Expected Output:\n",
    "\n",
    "Instead of gradually approaching the minimum, the x values would oscillate around the minimum or diverge entirely.\n",
    "The function values ( f(x) ) would not decrease consistently and might increase instead.\n",
    "Example:\n",
    "If you run the gradient descent function with ( \\alpha = 1 ), you might observe something like this:"
   ]
  },
  {
   "cell_type": "code",
   "execution_count": 11,
   "metadata": {},
   "outputs": [
    {
     "name": "stdout",
     "output_type": "stream",
     "text": [
      "Iteration x-value        f(x)-value     \n",
      "0         2.000000       1.000000       \n",
      "1         4.000000       1.000000       \n",
      "2         2.000000       1.000000       \n",
      "3         4.000000       1.000000       \n",
      "4         2.000000       1.000000       \n",
      "5         4.000000       1.000000       \n",
      "6         2.000000       1.000000       \n",
      "7         4.000000       1.000000       \n",
      "8         2.000000       1.000000       \n",
      "9         4.000000       1.000000       \n",
      "10        2.000000       1.000000       \n"
     ]
    }
   ],
   "source": [
    "x_values, f_values = gradient_descent(2, 1, 10)\n",
    "\n",
    "print(f\"{'Iteration':<10}{'x-value':<15}{'f(x)-value':<15}\")\n",
    "for i, (x, fx) in enumerate(zip(x_values, f_values)):\n",
    "    print(f\"{i:<10}{x:<15.6f}{fx:<15.6f}\")"
   ]
  },
  {
   "cell_type": "markdown",
   "metadata": {},
   "source": [
    "This oscillation occurs because the step size is too large, causing the algorithm to jump back and forth across the minimum.\n",
    "\n",
    "Conclusion:\n",
    "A learning rate that is too large (e.g., ( \\alpha = 1 )) can prevent convergence by causing overshooting or divergence. To ensure stable and consistent convergence, the learning rate should be chosen carefully, often through experimentation or tuning."
   ]
  },
  {
   "cell_type": "code",
   "execution_count": null,
   "metadata": {},
   "outputs": [],
   "source": []
  },
  {
   "cell_type": "markdown",
   "metadata": {},
   "source": [
    "# Question 2"
   ]
  },
  {
   "cell_type": "markdown",
   "metadata": {},
   "source": [
    "## A researcher is modeling a simple electrical circuit where:\n",
    "- 2I1 + 3I2 = 8 (KVL Equation 1)\n",
    "- 5I1 + 7I2 = 19 (KVL Equation 2)"
   ]
  },
  {
   "cell_type": "markdown",
   "metadata": {},
   "source": [
    "#### a) Formulate this system of equations as a matrix problem and solve it using NumPy in Python. "
   ]
  },
  {
   "cell_type": "code",
   "execution_count": 1,
   "metadata": {},
   "outputs": [
    {
     "name": "stdout",
     "output_type": "stream",
     "text": [
      "I1 = 1.00, I2 = 2.00\n"
     ]
    }
   ],
   "source": [
    "import numpy as np\n",
    "\n",
    "# Coefficient matrix A\n",
    "A = np.array([[2, 3],\n",
    "              [5, 7]])\n",
    "\n",
    "# Result vector B\n",
    "B = np.array([8, 19])\n",
    "\n",
    "# Solve for X (I1, I2)\n",
    "X = np.linalg.solve(A, B)\n",
    "\n",
    "# Display the results\n",
    "print(f\"I1 = {X[0]:.2f}, I2 = {X[1]:.2f}\")"
   ]
  },
  {
   "cell_type": "markdown",
   "metadata": {},
   "source": [
    " #### b) Modify your code to read the coefficients and constants from a `.txt` file that has the system in this format:\n",
    " #### 2 3 8\n",
    " #### 5 7 19\n",
    "#### Write code to parse the file and solve the system. "
   ]
  },
  {
   "cell_type": "markdown",
   "metadata": {},
   "source": []
  },
  {
   "cell_type": "code",
   "execution_count": 12,
   "metadata": {},
   "outputs": [
    {
     "name": "stdout",
     "output_type": "stream",
     "text": [
      "I1 = 1.00, I2 = 2.00\n"
     ]
    }
   ],
   "source": [
    "import numpy as np\n",
    "\n",
    "# Function to read the coefficients and constants from a file\n",
    "def read_matrix_from_file(file_path):\n",
    "    with open(file_path, 'r') as file:\n",
    "        lines = file.readlines()\n",
    "        # Parse the lines into a matrix\n",
    "        matrix = [list(map(float, line.split())) for line in lines]\n",
    "    return np.array(matrix)\n",
    "\n",
    "# Read the matrix from the sample file\n",
    "matrix = read_matrix_from_file('text.txt')\n",
    "\n",
    "# Split the matrix into coefficients (A) and constants (B)\n",
    "A = matrix[:, :-1] \n",
    "B = matrix[:, -1]   \n",
    "\n",
    "# Solve the system of equations\n",
    "X = np.linalg.solve(A, B)\n",
    "\n",
    "# Display the results\n",
    "print(f\"I1 = {X[0]:.2f}, I2 = {X[1]:.2f}\")"
   ]
  },
  {
   "cell_type": "markdown",
   "metadata": {},
   "source": [
    "#### c) Explain one real-world implication if the matrix of coefficients were nearly singular.\n",
    "#### How would that affect the solution, and what could you do about it computationally?"
   ]
  },
  {
   "cell_type": "markdown",
   "metadata": {},
   "source": [
    "If the matrix coefficienrts were nearly singular meaning the the determinant is close to zero implies that the system of equations is ill-conditioned.\n",
    "##### real world implication.\n",
    "In control systems, a nearly singular matrix can have significant implications for the controllability and observability of the system. This implies that:\n",
    "- Certain states of the system are difficult or impossible to control.\n",
    "- The system may not respond effectively to control inputs, leading to poor performance or instability.\n",
    "##### Computational Impact\n",
    "- A nearly singular matrix in the controllability or observability matrix can lead to numerical instability when solving for control inputs or state estimations.\n",
    "This can result in inaccurate or unreliable control actions.\n",
    "##### Mitigation\n",
    "- Redesign the System:\n",
    "Modify the system's configuration to avoid near-singular conditions. For example, in robotics, avoid joint configurations that lead to singularities.\n",
    "- Regularization:\n",
    "Add small perturbations to the matrix to improve its condition number, ensuring numerical stability.\n"
   ]
  },
  {
   "cell_type": "markdown",
   "metadata": {},
   "source": [
    "# Question 3"
   ]
  },
  {
   "cell_type": "markdown",
   "metadata": {},
   "source": [
    "## Given a file data.csv with two columns: Time (s) and Temperature (°C), your task is to analyze a heat transfer process"
   ]
  },
  {
   "cell_type": "markdown",
   "metadata": {},
   "source": [
    "#### a) Write a Python script that:\n",
    "- reads the data using pandas,\n",
    "- plots a line graph of temperature vs time,\n",
    "- and adds labels, title, and grid."
   ]
  },
  {
   "cell_type": "code",
   "execution_count": 5,
   "metadata": {},
   "outputs": [
    {
     "data": {
      "image/png": "[encoded data removed]",
      "text/plain": [
       "<Figure size 800x600 with 1 Axes>"
      ]
     },
     "metadata": {},
     "output_type": "display_data"
    }
   ],
   "source": [
    "import pandas as pd\n",
    "import matplotlib.pyplot as plt\n",
    "\n",
    "# Read the data from the CSV file\n",
    "data = pd.read_csv('data.csv') \n",
    "\n",
    "# Plot the data\n",
    "plt.figure(figsize=(8, 6))\n",
    "plt.plot(data['Time (s)'], data['Temperature (°C)'], marker='o', linestyle='-', color='b')\n",
    "\n",
    "# Add labels, title, and grid\n",
    "plt.xlabel('Time (s)', fontsize=12)\n",
    "plt.ylabel('Temperature (°C)', fontsize=12)\n",
    "plt.title('Temperature vs Time', fontsize=14)\n",
    "plt.grid(True)\n",
    "\n",
    "# Show the plot\n",
    "plt.show()"
   ]
  },
  {
   "cell_type": "markdown",
   "metadata": {},
   "source": [
    "#### b) Based on your graph, explain any two observations you can make about the heating process (e.g., steady state, rate of change). "
   ]
  },
  {
   "cell_type": "markdown",
   "metadata": {},
   "source": [
    "##### Steady Increase in temperature\n",
    "The graph shows a consitent upward trend. This indicates trhat the temperature is steadily increasing over time. The heating is uniform.\n",
    "##### Rate of Change\n",
    "The slope of the graph is almost constant. indicating a linear relationship between time and temperature. This is also an implication of a constant rate heating process.\n"
   ]
  },
  {
   "cell_type": "markdown",
   "metadata": {},
   "source": [
    "#### c) Describe a situation in engineering where such visualization can be used to influence decision-making."
   ]
  },
  {
   "cell_type": "markdown",
   "metadata": {},
   "source": [
    "##### Battery Performance Analysis\n",
    "In this context a graph of Voltage vs. Time can be used to moniter and evaluate the behaviour of a battery under different load condtions. \n",
    "A graph can show how the battery voltage decreases with time under a specific load. a steady decline will indicate normal behaviour while sudden drops will indicate issues such as internal reistance build up or cell imbalance.\n",
    "The graph may also help identify the end-of life conditions os a battery. If the battery voltage drops below critical threshold this signals the end of its usable charge."
   ]
  },
  {
   "cell_type": "markdown",
   "metadata": {},
   "source": [
    "# Question 4."
   ]
  },
  {
   "cell_type": "markdown",
   "metadata": {},
   "source": [
    "## You are simulating population growth using the differential equation dy/dt = 0.5y, where y(0) = 100."
   ]
  },
  {
   "cell_type": "markdown",
   "metadata": {},
   "source": [
    "#### a) Use Euler’s Method to approximate the population size after 4 time steps with step size h = 0.5. Show all computations. "
   ]
  },
  {
   "cell_type": "code",
   "execution_count": 6,
   "metadata": {},
   "outputs": [
    {
     "name": "stdout",
     "output_type": "stream",
     "text": [
      "Step      Time      Population     \n",
      "0         0.00      100.000000     \n",
      "1         0.50      125.000000     \n",
      "2         1.00      156.250000     \n",
      "3         1.50      195.312500     \n",
      "4         2.00      244.140625     \n"
     ]
    }
   ],
   "source": [
    "# Euler's Method for population growth\n",
    "def euler_method(h, steps, y0):\n",
    "    results = []\n",
    "    t = 0\n",
    "    y = y0\n",
    "    results.append((t, y))  # Initial condition\n",
    "    for _ in range(steps):\n",
    "        y = y + h * (0.5 * y)  # Euler's formula\n",
    "        t = t + h\n",
    "        results.append((t, y))\n",
    "    return results\n",
    "\n",
    "# Parameters\n",
    "h = 0.5  # Step size\n",
    "steps = 4  # Number of steps\n",
    "y0 = 100  # Initial population\n",
    "\n",
    "# Compute results\n",
    "results = euler_method(h, steps, y0)\n",
    "\n",
    "# Display results\n",
    "print(f\"{'Step':<10}{'Time':<10}{'Population':<15}\")\n",
    "for i, (t, y) in enumerate(results):\n",
    "    print(f\"{i:<10}{t:<10.2f}{y:<15.6f}\")"
   ]
  },
  {
   "cell_type": "markdown",
   "metadata": {},
   "source": [
    "#### b) Write a Python function that generalizes the Euler’s method to solve any first-order ODE given f(t, y), initial condition, step size, and number of steps."
   ]
  },
  {
   "cell_type": "code",
   "execution_count": 8,
   "metadata": {},
   "outputs": [
    {
     "name": "stdout",
     "output_type": "stream",
     "text": [
      "Step      Time      Population     \n",
      "0         0.00      100.000000     \n",
      "1         0.50      125.000000     \n",
      "2         1.00      156.250000     \n",
      "3         1.50      195.312500     \n",
      "4         2.00      244.140625     \n"
     ]
    }
   ],
   "source": [
    "# Generalized Euler's Method for solving first-order ODEs\n",
    "def generalized_euler(f, t0, y0, h, steps):\n",
    "    \"\"\"\n",
    "    Solves a first-order ODE using Euler's method.\n",
    "\n",
    "    Parameters:\n",
    "        f (function): The function f(t, y) representing dy/dt.\n",
    "        t0 (float): The initial time.\n",
    "        y0 (float): The initial value of y at t0.\n",
    "        h (float): The step size.\n",
    "        steps (int): The number of steps to compute.\n",
    "\n",
    "    Returns:\n",
    "        list: A list of tuples (t, y) representing the time and corresponding y values.\n",
    "    \"\"\"\n",
    "    results = [(t0, y0)]  # Initialize with the initial condition\n",
    "    t, y = t0, y0\n",
    "\n",
    "    for _ in range(steps):\n",
    "        y = y + h * f(t, y)  # Euler's formula\n",
    "        t = t + h\n",
    "        results.append((t, y))\n",
    "\n",
    "    return results\n",
    "\n",
    "\n",
    "# Define the ODE dy/dt = 0.5y\n",
    "def f(t, y):\n",
    "    return 0.5 * y\n",
    "\n",
    "    # Initial conditions\n",
    "t0 = 0      # Initial time\n",
    "y0 = 100    # Initial population\n",
    "h = 0.5     # Step size\n",
    "steps = 4   # Number of steps\n",
    "\n",
    "    # Solve the ODE\n",
    "results = generalized_euler(f, t0, y0, h, steps)\n",
    "\n",
    "    # Display the results\n",
    "print(f\"{'Step':<10}{'Time':<10}{'Population':<15}\")\n",
    "for i, (t, y) in enumerate(results):\n",
    "    print(f\"{i:<10}{t:<10.2f}{y:<15.6f}\")"
   ]
  },
  {
   "cell_type": "markdown",
   "metadata": {},
   "source": [
    "#### c) Briefly explain two limitations of using Euler’s Method for real-world systems, and suggest one alternative method."
   ]
  },
  {
   "cell_type": "markdown",
   "metadata": {},
   "source": [
    "Limitations of Euler's Method:\n",
    "- Low Accuracy: \n",
    "Euler's method is a first-order numerical method, meaning it has a local truncation error proportional to the square of the step size ((O(h^2))).\n",
    "For real-world systems with rapidly changing dynamics, this low accuracy can lead to significant errors unless very small step sizes are used, which increases computational cost.\n",
    "- Instability: Euler's method can become unstable for stiff differential equations, where the solution changes rapidly over a short interval.\n",
    "In such cases, the method may produce oscillations or diverge entirely, making it unsuitable for stiff systems.\n",
    "##### Alternative Method: Runge-Kutta Methods\n",
    "\n",
    "Runge-Kutta methods, such as the 4th-order Runge-Kutta method (RK4), provide higher accuracy and better stability compared to Euler's method.\n",
    "RK4 has a local truncation error of (O(h^5)), making it much more accurate for the same step size.\n",
    "Advantages:\n",
    "\n",
    "Higher accuracy with fewer steps.\n",
    "Better stability for stiff or rapidly changing systems."
   ]
  }
 ],
 "metadata": {
  "kernelspec": {
   "display_name": "Python 3",
   "language": "python",
   "name": "python3"
  },
  "language_info": {
   "codemirror_mode": {
    "name": "ipython",
    "version": 3
   },
   "file_extension": ".py",
   "mimetype": "text/x-python",
   "name": "python",
   "nbconvert_exporter": "python",
   "pygments_lexer": "ipython3",
   "version": "3.13.1"
  }
 },
 "nbformat": 4,
 "nbformat_minor": 2
}
