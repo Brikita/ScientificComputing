{
 "cells": [
  {
   "cell_type": "code",
   "execution_count": 1,
   "metadata": {},
   "outputs": [],
   "source": [
    "# Pythons built in support for JSON\n",
    "import json\n",
    "# python turtle library for creating designs and images\n",
    "import turtle\n",
    "# python module for fetching URLs\n",
    "import urllib.request\n",
    "# python module for working with dates and times\n",
    "import time\n",
    "# python module for opening URLs in a web browser\n",
    "import webbrowser\n",
    "\n",
    "\n",
    "# Python module for retrieving latitude and longitude of a location\n",
    "import geocoder"
   ]
  },
  {
   "cell_type": "code",
   "execution_count": 2,
   "metadata": {},
   "outputs": [
    {
     "name": "stdout",
     "output_type": "stream",
     "text": [
      "{'people': [{'craft': 'ISS', 'name': 'Oleg Kononenko'}, {'craft': 'ISS', 'name': 'Nikolai Chub'}, {'craft': 'ISS', 'name': 'Tracy Caldwell Dyson'}, {'craft': 'ISS', 'name': 'Matthew Dominick'}, {'craft': 'ISS', 'name': 'Michael Barratt'}, {'craft': 'ISS', 'name': 'Jeanette Epps'}, {'craft': 'ISS', 'name': 'Alexander Grebenkin'}, {'craft': 'ISS', 'name': 'Butch Wilmore'}, {'craft': 'ISS', 'name': 'Sunita Williams'}, {'craft': 'Tiangong', 'name': 'Li Guangsu'}, {'craft': 'Tiangong', 'name': 'Li Cong'}, {'craft': 'Tiangong', 'name': 'Ye Guangfu'}], 'number': 12, 'message': 'success'}\n"
     ]
    }
   ],
   "source": [
    "url = \"http://api.open-notify.org/astros.json\" \n",
    "response = urllib.request.urlopen(url) # Open the URL\n",
    "result = json.loads(response.read()) # Load the JSON data\n",
    "print(result) # Print the JSON data"
   ]
  },
  {
   "cell_type": "code",
   "execution_count": 3,
   "metadata": {},
   "outputs": [],
   "source": [
    "file = open(\"iss.txt\", \"w\") # Open a file in write mode\n",
    "file.write(\n",
    "    \"There are currently \" + str(result[\"number\"]) +\n",
    "    \" astronauts on the ISS: \\n\\n\"\n",
    ") # Write the number of astronauts to the file\n",
    "\n",
    "people = result[\"people\"] # Get the list of astronauts\n",
    "for p in people:\n",
    "    file.write(p['name'] + \" - on board\" + \"\\n\") # Write the name of each astronaut to the file"
   ]
  },
  {
   "cell_type": "code",
   "execution_count": 4,
   "metadata": {},
   "outputs": [
    {
     "data": {
      "text/plain": [
       "True"
      ]
     },
     "execution_count": 4,
     "metadata": {},
     "output_type": "execute_result"
    }
   ],
   "source": [
    "g = geocoder.ip('me') # Get the current lat / long of the user\n",
    "file.write(\"\\nYour current lat / long is: \" + str(g.latlng)) # Write the lat / long to the file\n",
    "file.close()    # Close the file\n",
    "webbrowser.open(\"iss.txt\") # Open the file in the default web browser"
   ]
  },
  {
   "cell_type": "code",
   "execution_count": 5,
   "metadata": {},
   "outputs": [],
   "source": [
    "screen = turtle.Screen()\n",
    "screen.setup(1280, 720)\n",
    "screen.setworldcoordinates(-180, -90, 180, 90)"
   ]
  },
  {
   "cell_type": "code",
   "execution_count": 6,
   "metadata": {},
   "outputs": [],
   "source": [
    "screen.bgpic(\"images/map.gif\")\n",
    "screen.register_shape(\"images/iss.gif\")\n",
    "iss = turtle.Turtle()\n",
    "iss.shape(\"images/iss.gif\")\n",
    "iss.setheading(45)\n",
    "iss.penup()"
   ]
  },
  {
   "cell_type": "code",
   "execution_count": null,
   "metadata": {},
   "outputs": [
    {
     "name": "stdout",
     "output_type": "stream",
     "text": [
      "\n",
      "Latitude: -1.7996\n",
      "\n",
      "Longitude: -2.0803\n"
     ]
    },
    {
     "ename": "",
     "evalue": "",
     "output_type": "error",
     "traceback": [
      "\u001b[1;31mThe Kernel crashed while executing code in the current cell or a previous cell. \n",
      "\u001b[1;31mPlease review the code in the cell(s) to identify a possible cause of the failure. \n",
      "\u001b[1;31mClick <a href='https://aka.ms/vscodeJupyterKernelCrash'>here</a> for more info. \n",
      "\u001b[1;31mView Jupyter <a href='command:jupyter.viewOutput'>log</a> for further details."
     ]
    }
   ],
   "source": [
    "# load the current status of the ISS in real-time\n",
    "url = \"http://api.open-notify.org/iss-now.json\"\n",
    "response = urllib.request.urlopen(url)\n",
    "result = json.loads(response.read())\n",
    "\n",
    "# Extract the ISS location\n",
    "location = result[\"iss_position\"]\n",
    "lat = location['latitude']\n",
    "lon = location['longitude']\n",
    "\n",
    "# Output lon and lat to the terminal in the\n",
    "# float format\n",
    "lat = float(lat)\n",
    "lon = float(lon)\n",
    "print(\"\\nLatitude: \" + str(lat))\n",
    "print(\"\\nLongitude: \" + str(lon))\n",
    "# Update the ISS location on the map\n",
    "iss.goto(lon, lat)\n",
    "\n",
    "# Refresh each 5 seconds\n",
    "time.sleep(5)"
   ]
  }
 ],
 "metadata": {
  "kernelspec": {
   "display_name": "Python 3",
   "language": "python",
   "name": "python3"
  },
  "language_info": {
   "codemirror_mode": {
    "name": "ipython",
    "version": 3
   },
   "file_extension": ".py",
   "mimetype": "text/x-python",
   "name": "python",
   "nbconvert_exporter": "python",
   "pygments_lexer": "ipython3",
   "version": "3.13.1"
  }
 },
 "nbformat": 4,
 "nbformat_minor": 2
}
